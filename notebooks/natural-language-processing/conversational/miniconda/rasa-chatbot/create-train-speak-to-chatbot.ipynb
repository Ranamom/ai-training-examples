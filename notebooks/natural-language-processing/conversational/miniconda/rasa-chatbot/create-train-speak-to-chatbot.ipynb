{
 "cells": [
  {
   "cell_type": "markdown",
   "metadata": {},
   "source": [
    "## Create the rasa chatbot\n",
    "\n",
    "To Create the chatbot, you will need some data and some configurations files. Of course, you don't have to create them. The rasa package will do it for you. First we will need to install the nest_asynchio package. Just run the next cell and then we will init a small chatbot !\n"
   ]
  },
  {
   "cell_type": "code",
   "execution_count": null,
   "metadata": {
    "collapsed": true,
    "jupyter": {
     "outputs_hidden": true
    },
    "tags": []
   },
   "outputs": [],
   "source": [
    "import nest_asyncio"
   ]
  },
  {
   "cell_type": "markdown",
   "metadata": {},
   "source": [
    "Now that we have all the requirements installed, let's create the rasa chatbot. We will create a project. To do this, run this cell. And look, our chatbot has been created ! "
   ]
  },
  {
   "cell_type": "code",
   "execution_count": 3,
   "metadata": {
    "collapsed": true,
    "jupyter": {
     "outputs_hidden": true
    },
    "tags": []
   },
   "outputs": [
    {
     "name": "stdout",
     "output_type": "stream",
     "text": [
      "['tests', 'actions', 'domain.yml', 'endpoints.yml', 'credentials.yml', 'config.yml', 'data']\n"
     ]
    }
   ],
   "source": [
    "from rasa.cli.scaffold import create_initial_project\n",
    "import os\n",
    "\n",
    "\n",
    "project = \"test-project\"\n",
    "create_initial_project(project)\n",
    "\n",
    "# move into project directory and show files\n",
    "os.chdir(project)\n",
    "print(os.listdir(\".\"))"
   ]
  },
  {
   "cell_type": "markdown",
   "metadata": {},
   "source": [
    "## Train the model of your project\n",
    "\n",
    "Ok now, that we have a project created, we will go inside it. This has already be done with the creation of the project. So now, let's just create the rasa model.\n",
    "\n",
    "To do, we have to tell to rasa which files needed for the training of the model. Let's run this cell : "
   ]
  },
  {
   "cell_type": "code",
   "execution_count": 4,
   "metadata": {
    "collapsed": true,
    "jupyter": {
     "outputs_hidden": true
    }
   },
   "outputs": [
    {
     "name": "stdout",
     "output_type": "stream",
     "text": [
      "config.yml data/ domain.yml models/\n"
     ]
    }
   ],
   "source": [
    "config = \"config.yml\"\n",
    "training_files = \"data/\"\n",
    "domain = \"domain.yml\"\n",
    "output = \"models/\"\n",
    "print(config, training_files, domain, output)"
   ]
  },
  {
   "cell_type": "markdown",
   "metadata": {},
   "source": [
    "Now, we are all set to train the model. The model will be save in the output folder. We use the function rasa.train and this function will return the path of where the model will be save. "
   ]
  },
  {
   "cell_type": "code",
   "execution_count": 5,
   "metadata": {
    "collapsed": true,
    "jupyter": {
     "outputs_hidden": true
    }
   },
   "outputs": [
    {
     "name": "stderr",
     "output_type": "stream",
     "text": [
      "/workspace/.miniconda3/lib/python3.9/site-packages/future/standard_library/__init__.py:65: DeprecationWarning: the imp module is deprecated in favour of importlib; see the module's documentation for alternative uses\n",
      "  import imp\n",
      "/workspace/.miniconda3/lib/python3.9/site-packages/requests_toolbelt/_compat.py:56: DeprecationWarning: 'urllib3.contrib.pyopenssl' module is deprecated and will be removed in a future release of urllib3 2.x. Read more in this issue: https://github.com/urllib3/urllib3/issues/2680\n",
      "  from requests.packages.urllib3.contrib.pyopenssl \\\n"
     ]
    },
    {
     "name": "stdout",
     "output_type": "stream",
     "text": [
      "\u001b[94mThe configuration for pipeline and policies was chosen automatically. It was written into the config file at 'config.yml'.\u001b[0m\n"
     ]
    },
    {
     "name": "stderr",
     "output_type": "stream",
     "text": [
      "2022-11-21 11:49:14.703098: W tensorflow/stream_executor/platform/default/dso_loader.cc:64] Could not load dynamic library 'libcuda.so.1'; dlerror: libcuda.so.1: cannot open shared object file: No such file or directory; LD_LIBRARY_PATH: /usr/local/nvidia/lib:/usr/local/nvidia/lib64\n",
      "2022-11-21 11:49:14.703144: W tensorflow/stream_executor/cuda/cuda_driver.cc:269] failed call to cuInit: UNKNOWN ERROR (303)\n",
      "/workspace/.miniconda3/lib/python3.9/site-packages/rasa/utils/tensorflow/model_data.py:762: VisibleDeprecationWarning: Creating an ndarray from ragged nested sequences (which is a list-or-tuple of lists-or-tuples-or ndarrays with different lengths or shapes) is deprecated. If you meant to do this, you must specify 'dtype=object' when creating the ndarray\n",
      "  np.concatenate(np.array(f)),\n",
      "Epochs: 100%|██████████| 100/100 [00:26<00:00,  3.73it/s, t_loss=1.05, i_acc=1]   \n",
      "Processed story blocks: 100%|██████████| 3/3 [00:00<00:00, 372.14it/s, # trackers=1]\n",
      "Processed story blocks: 100%|██████████| 3/3 [00:00<00:00, 182.29it/s, # trackers=3]\n",
      "Processed story blocks: 100%|██████████| 3/3 [00:00<00:00, 155.14it/s, # trackers=12]\n",
      "Processed story blocks: 100%|██████████| 3/3 [00:00<00:00, 32.77it/s, # trackers=39]\n",
      "Processed rules: 100%|██████████| 2/2 [00:00<00:00, 615.81it/s, # trackers=1]\n",
      "Processed trackers: 100%|██████████| 3/3 [00:00<00:00, 165.39it/s, # action=12]\n",
      "Processed actions: 12it [00:00, 1015.22it/s, # examples=12]\n",
      "Processed trackers: 100%|██████████| 2/2 [00:00<00:00, 192.59it/s, # action=5]\n",
      "Processed actions: 5it [00:00, 1470.14it/s, # examples=4]\n",
      "Processed trackers: 100%|██████████| 3/3 [00:00<00:00, 301.95it/s, # action=12]\n",
      "Processed trackers: 100%|██████████| 2/2 [00:00<00:00, 676.83it/s]\n",
      "Processed trackers: 100%|██████████| 5/5 [00:00<00:00, 973.20it/s]\n",
      "Processed trackers: 100%|██████████| 120/120 [00:00<00:00, 1512.98it/s, # action=30]\n",
      "/workspace/.miniconda3/lib/python3.9/site-packages/rasa/utils/tensorflow/model_data_utils.py:388: VisibleDeprecationWarning: Creating an ndarray from ragged nested sequences (which is a list-or-tuple of lists-or-tuples-or ndarrays with different lengths or shapes) is deprecated. If you meant to do this, you must specify 'dtype=object' when creating the ndarray\n",
      "  np.array(values), number_of_dimensions=4\n",
      "/workspace/.miniconda3/lib/python3.9/site-packages/rasa/utils/tensorflow/model_data_utils.py:404: VisibleDeprecationWarning: Creating an ndarray from ragged nested sequences (which is a list-or-tuple of lists-or-tuples-or ndarrays with different lengths or shapes) is deprecated. If you meant to do this, you must specify 'dtype=object' when creating the ndarray\n",
      "  MASK: [FeatureArray(np.array(attribute_masks), number_of_dimensions=3)]\n",
      "Epochs:   0%|          | 0/100 [00:00<?, ?it/s]/workspace/.miniconda3/lib/python3.9/site-packages/tensorflow/python/framework/indexed_slices.py:448: UserWarning: Converting sparse IndexedSlices(IndexedSlices(indices=Tensor(\"gradients/cond_grad/Identity_1:0\", shape=(None,), dtype=int64), values=Tensor(\"gradients/cond_grad/Identity:0\", shape=(None,), dtype=float32), dense_shape=Tensor(\"gradients/cond_grad/Identity_2:0\", shape=(1,), dtype=int32))) to a dense Tensor of unknown shape. This may consume a large amount of memory.\n",
      "  warnings.warn(\n",
      "/workspace/.miniconda3/lib/python3.9/site-packages/tensorflow/python/framework/indexed_slices.py:448: UserWarning: Converting sparse IndexedSlices(IndexedSlices(indices=Tensor(\"gradients/cond_1_grad/Identity_1:0\", shape=(None,), dtype=int64), values=Tensor(\"gradients/cond_1_grad/Identity:0\", shape=(None,), dtype=float32), dense_shape=Tensor(\"gradients/cond_1_grad/Identity_2:0\", shape=(1,), dtype=int32))) to a dense Tensor of unknown shape. This may consume a large amount of memory.\n",
      "  warnings.warn(\n",
      "Epochs: 100%|██████████| 100/100 [00:18<00:00,  5.46it/s, t_loss=3.05, loss=2.9, acc=0.967] \n",
      "Processed trackers: 100%|██████████| 120/120 [00:00<00:00, 2525.81it/s, # intent=12]\n",
      "Epochs: 100%|██████████| 100/100 [00:16<00:00,  6.11it/s, t_loss=0.127, loss=0.0156, acc=1]   \n"
     ]
    },
    {
     "name": "stdout",
     "output_type": "stream",
     "text": [
      "\u001b[92mYour Rasa model is trained and saved at 'models/20221121-114912-fancy-formation.tar.gz'.\u001b[0m\n",
      "TrainingResult(model='models/20221121-114912-fancy-formation.tar.gz', code=0, dry_run_results=None)\n"
     ]
    }
   ],
   "source": [
    "import rasa\n",
    "\n",
    "model_path = rasa.train(domain, config, [training_files], output)\n",
    "print(model_path)"
   ]
  },
  {
   "cell_type": "markdown",
   "metadata": {
    "tags": []
   },
   "source": [
    "## Play with the chatbot\n",
    "\n",
    "Now that we have our model, let's try to play with the chatbot and speak with him. Run the above cell and you will be able to play with him. The cell will create an agent to speak with you. The chatbot can only speak to say hello or good bye, it is not a full chatbot because you've just create it. "
   ]
  },
  {
   "cell_type": "code",
   "execution_count": 6,
   "metadata": {
    "collapsed": true,
    "jupyter": {
     "outputs_hidden": true
    },
    "tags": []
   },
   "outputs": [
    {
     "name": "stdout",
     "output_type": "stream",
     "text": [
      "Event loop ready.\n",
      "Enter '/stop' if you want to stop the conversation with your chatbot ! \n"
     ]
    },
    {
     "name": "stdout",
     "output_type": "stream",
     "text": [
      " hi\n"
     ]
    },
    {
     "name": "stderr",
     "output_type": "stream",
     "text": [
      "/workspace/.miniconda3/lib/python3.9/site-packages/tensorflow/python/framework/indexed_slices.py:448: UserWarning: Converting sparse IndexedSlices(IndexedSlices(indices=Tensor(\"gradients/cond_grad/Identity_1:0\", shape=(None,), dtype=int64), values=Tensor(\"gradients/cond_grad/Identity:0\", shape=(None,), dtype=float32), dense_shape=Tensor(\"gradients/cond_grad/Identity_2:0\", shape=(1,), dtype=int32))) to a dense Tensor of unknown shape. This may consume a large amount of memory.\n",
      "  warnings.warn(\n",
      "/workspace/.miniconda3/lib/python3.9/site-packages/tensorflow/python/framework/indexed_slices.py:448: UserWarning: Converting sparse IndexedSlices(IndexedSlices(indices=Tensor(\"gradients/cond_1_grad/Identity_1:0\", shape=(None,), dtype=int64), values=Tensor(\"gradients/cond_1_grad/Identity:0\", shape=(None,), dtype=float32), dense_shape=Tensor(\"gradients/cond_1_grad/Identity_2:0\", shape=(1,), dtype=int32))) to a dense Tensor of unknown shape. This may consume a large amount of memory.\n",
      "  warnings.warn(\n"
     ]
    },
    {
     "name": "stdout",
     "output_type": "stream",
     "text": [
      "Hey! How are you?\n"
     ]
    },
    {
     "name": "stdout",
     "output_type": "stream",
     "text": [
      " /stop\n"
     ]
    }
   ],
   "source": [
    "from rasa.core.agent import Agent\n",
    "from typing import Any, Dict, Text, Optional\n",
    "import asyncio\n",
    "import nest_asyncio\n",
    "nest_asyncio.apply()\n",
    "print(\"Event loop ready.\")\n",
    "\n",
    "def _display_bot_response(response: Dict):\n",
    "    from IPython.display import Image, display  # pytype: disable=import-error\n",
    "\n",
    "    for response_type, value in response.items():\n",
    "        if response_type == \"text\":\n",
    "            print(value)\n",
    "\n",
    "def handle_text(message):\n",
    "    agent= Agent.load(r\"models\")\n",
    "    \n",
    "    loop = asyncio.get_event_loop()\n",
    "\n",
    "    responses = loop.run_until_complete(agent.handle_text(message))\n",
    "    for response in responses:\n",
    "        _display_bot_response(response)\n",
    "        \n",
    "stop=True\n",
    "print(\"Enter '/stop' if you want to stop the conversation with your chatbot ! \")\n",
    "while (stop):\n",
    "    message=input()\n",
    "    if (message==\"/stop\"):\n",
    "        stop=False\n",
    "    else:\n",
    "        handle_text(message)"
   ]
  }
 ],
 "metadata": {
  "kernelspec": {
   "display_name": "Python 3",
   "language": "python",
   "name": "python3"
  },
  "language_info": {
   "codemirror_mode": {
    "name": "ipython",
    "version": 3
   },
   "file_extension": ".py",
   "mimetype": "text/x-python",
   "name": "python",
   "nbconvert_exporter": "python",
   "pygments_lexer": "ipython3",
   "version": "3.8.10"
  },
  "vscode": {
   "interpreter": {
    "hash": "916dbcbb3f70747c44a77c7bcd40155683ae19c65e1c03b4aa3499c5328201f1"
   }
  }
 },
 "nbformat": 4,
 "nbformat_minor": 4
}
